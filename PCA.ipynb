{
  "nbformat": 4,
  "nbformat_minor": 0,
  "metadata": {
    "kernelspec": {
      "display_name": "R",
      "language": "R",
      "name": "ir"
    },
    "language_info": {
      "codemirror_mode": "r",
      "file_extension": ".r",
      "mimetype": "text/x-r-source",
      "name": "R",
      "pygments_lexer": "r",
      "version": "3.3.1"
    },
    "colab": {
      "provenance": []
    }
  },
  "cells": [
    {
      "cell_type": "code",
      "source": [
        "library(ggplot2)\n",
        "library(dplyr)"
      ],
      "metadata": {
        "id": "SUFzZyIuvy_C",
        "colab": {
          "base_uri": "https://localhost:8080/"
        },
        "outputId": "2d083e30-b960-49ad-c765-cc2af9ba15e7"
      },
      "execution_count": null,
      "outputs": [
        {
          "output_type": "stream",
          "name": "stderr",
          "text": [
            "\n",
            "Attaching package: ‘dplyr’\n",
            "\n",
            "\n",
            "The following objects are masked from ‘package:stats’:\n",
            "\n",
            "    filter, lag\n",
            "\n",
            "\n",
            "The following objects are masked from ‘package:base’:\n",
            "\n",
            "    intersect, setdiff, setequal, union\n",
            "\n",
            "\n"
          ]
        }
      ]
    },
    {
      "cell_type": "markdown",
      "source": [
        "**Load data - refer to https://openmv.net/info/room-temperature for data description.**"
      ],
      "metadata": {
        "id": "Xo_6GfCYv09J"
      }
    },
    {
      "cell_type": "code",
      "source": [
        "file = 'https://openmv.net/file/room-temperature.csv'\n",
        "tempData = read.csv(file, header = TRUE)\n",
        "## Print structure and head of data frame\n",
        "str(tempData)\n",
        "head(tempData, 10)"
      ],
      "metadata": {
        "id": "Vi7jJFOgvnxW",
        "colab": {
          "base_uri": "https://localhost:8080/",
          "height": 515
        },
        "outputId": "58712a20-4589-4b5c-a959-09c1edbcab10"
      },
      "execution_count": null,
      "outputs": [
        {
          "output_type": "stream",
          "name": "stdout",
          "text": [
            "'data.frame':\t144 obs. of  5 variables:\n",
            " $ Date      : chr  \"4/11/2010 11:30\" \"4/11/2010 12:00\" \"4/11/2010 12:30\" \"4/11/2010 13:00\" ...\n",
            " $ FrontLeft : num  295 296 297 296 297 ...\n",
            " $ FrontRight: num  297 296 298 297 296 ...\n",
            " $ BackLeft  : num  296 296 297 297 298 ...\n",
            " $ BackRight : num  296 296 297 297 297 ...\n"
          ]
        },
        {
          "output_type": "display_data",
          "data": {
            "text/html": [
              "<table class=\"dataframe\">\n",
              "<caption>A data.frame: 10 × 5</caption>\n",
              "<thead>\n",
              "\t<tr><th></th><th scope=col>Date</th><th scope=col>FrontLeft</th><th scope=col>FrontRight</th><th scope=col>BackLeft</th><th scope=col>BackRight</th></tr>\n",
              "\t<tr><th></th><th scope=col>&lt;chr&gt;</th><th scope=col>&lt;dbl&gt;</th><th scope=col>&lt;dbl&gt;</th><th scope=col>&lt;dbl&gt;</th><th scope=col>&lt;dbl&gt;</th></tr>\n",
              "</thead>\n",
              "<tbody>\n",
              "\t<tr><th scope=row>1</th><td>4/11/2010 11:30</td><td>295.2</td><td>297.0</td><td>295.8</td><td>296.3</td></tr>\n",
              "\t<tr><th scope=row>2</th><td>4/11/2010 12:00</td><td>296.2</td><td>296.4</td><td>296.2</td><td>296.3</td></tr>\n",
              "\t<tr><th scope=row>3</th><td>4/11/2010 12:30</td><td>297.3</td><td>297.5</td><td>296.7</td><td>297.1</td></tr>\n",
              "\t<tr><th scope=row>4</th><td>4/11/2010 13:00</td><td>295.9</td><td>296.7</td><td>297.4</td><td>297.0</td></tr>\n",
              "\t<tr><th scope=row>5</th><td>4/11/2010 13:30</td><td>297.2</td><td>296.5</td><td>297.6</td><td>297.4</td></tr>\n",
              "\t<tr><th scope=row>6</th><td>4/11/2010 14:00</td><td>296.6</td><td>297.7</td><td>296.7</td><td>296.5</td></tr>\n",
              "\t<tr><th scope=row>7</th><td>4/11/2010 14:30</td><td>297.5</td><td>297.6</td><td>297.5</td><td>298.2</td></tr>\n",
              "\t<tr><th scope=row>8</th><td>4/11/2010 15:00</td><td>296.0</td><td>297.1</td><td>297.1</td><td>296.5</td></tr>\n",
              "\t<tr><th scope=row>9</th><td>4/11/2010 15:30</td><td>297.7</td><td>298.1</td><td>297.6</td><td>297.6</td></tr>\n",
              "\t<tr><th scope=row>10</th><td>4/11/2010 16:00</td><td>296.9</td><td>299.0</td><td>297.0</td><td>297.4</td></tr>\n",
              "</tbody>\n",
              "</table>\n"
            ],
            "text/markdown": "\nA data.frame: 10 × 5\n\n| <!--/--> | Date &lt;chr&gt; | FrontLeft &lt;dbl&gt; | FrontRight &lt;dbl&gt; | BackLeft &lt;dbl&gt; | BackRight &lt;dbl&gt; |\n|---|---|---|---|---|---|\n| 1 | 4/11/2010 11:30 | 295.2 | 297.0 | 295.8 | 296.3 |\n| 2 | 4/11/2010 12:00 | 296.2 | 296.4 | 296.2 | 296.3 |\n| 3 | 4/11/2010 12:30 | 297.3 | 297.5 | 296.7 | 297.1 |\n| 4 | 4/11/2010 13:00 | 295.9 | 296.7 | 297.4 | 297.0 |\n| 5 | 4/11/2010 13:30 | 297.2 | 296.5 | 297.6 | 297.4 |\n| 6 | 4/11/2010 14:00 | 296.6 | 297.7 | 296.7 | 296.5 |\n| 7 | 4/11/2010 14:30 | 297.5 | 297.6 | 297.5 | 298.2 |\n| 8 | 4/11/2010 15:00 | 296.0 | 297.1 | 297.1 | 296.5 |\n| 9 | 4/11/2010 15:30 | 297.7 | 298.1 | 297.6 | 297.6 |\n| 10 | 4/11/2010 16:00 | 296.9 | 299.0 | 297.0 | 297.4 |\n\n",
            "text/latex": "A data.frame: 10 × 5\n\\begin{tabular}{r|lllll}\n  & Date & FrontLeft & FrontRight & BackLeft & BackRight\\\\\n  & <chr> & <dbl> & <dbl> & <dbl> & <dbl>\\\\\n\\hline\n\t1 & 4/11/2010 11:30 & 295.2 & 297.0 & 295.8 & 296.3\\\\\n\t2 & 4/11/2010 12:00 & 296.2 & 296.4 & 296.2 & 296.3\\\\\n\t3 & 4/11/2010 12:30 & 297.3 & 297.5 & 296.7 & 297.1\\\\\n\t4 & 4/11/2010 13:00 & 295.9 & 296.7 & 297.4 & 297.0\\\\\n\t5 & 4/11/2010 13:30 & 297.2 & 296.5 & 297.6 & 297.4\\\\\n\t6 & 4/11/2010 14:00 & 296.6 & 297.7 & 296.7 & 296.5\\\\\n\t7 & 4/11/2010 14:30 & 297.5 & 297.6 & 297.5 & 298.2\\\\\n\t8 & 4/11/2010 15:00 & 296.0 & 297.1 & 297.1 & 296.5\\\\\n\t9 & 4/11/2010 15:30 & 297.7 & 298.1 & 297.6 & 297.6\\\\\n\t10 & 4/11/2010 16:00 & 296.9 & 299.0 & 297.0 & 297.4\\\\\n\\end{tabular}\n",
            "text/plain": [
              "   Date            FrontLeft FrontRight BackLeft BackRight\n",
              "1  4/11/2010 11:30 295.2     297.0      295.8    296.3    \n",
              "2  4/11/2010 12:00 296.2     296.4      296.2    296.3    \n",
              "3  4/11/2010 12:30 297.3     297.5      296.7    297.1    \n",
              "4  4/11/2010 13:00 295.9     296.7      297.4    297.0    \n",
              "5  4/11/2010 13:30 297.2     296.5      297.6    297.4    \n",
              "6  4/11/2010 14:00 296.6     297.7      296.7    296.5    \n",
              "7  4/11/2010 14:30 297.5     297.6      297.5    298.2    \n",
              "8  4/11/2010 15:00 296.0     297.1      297.1    296.5    \n",
              "9  4/11/2010 15:30 297.7     298.1      297.6    297.6    \n",
              "10 4/11/2010 16:00 296.9     299.0      297.0    297.4    "
            ]
          },
          "metadata": {}
        }
      ]
    },
    {
      "cell_type": "markdown",
      "source": [
        "**Question 1:** perform a PCA of the data matrix by filling the missing information below:"
      ],
      "metadata": {
        "id": "MW0b3dBgwuUT"
      }
    },
    {
      "cell_type": "code",
      "metadata": {
        "id": "_V7trZz-lWkd",
        "colab": {
          "base_uri": "https://localhost:8080/"
        },
        "outputId": "8a6fe0e4-cd76-4a1a-89d3-51d14d4a2486"
      },
      "source": [
        "# Calculate eigenvalues & eigenvectors of sample covariance matrix\n",
        "e = eigen(cov(tempData %>% select(FrontLeft,FrontRight,BackLeft,BackRight)))\n",
        "\n",
        "# Eigenvectors of the sample covariance matrix\n",
        "View =e$vectors\n",
        "\n",
        "# Eigenvalues of the sample covariance matrix\n",
        "lambda = e$values\n",
        "\n",
        "# Extract data matrix from data frame\n",
        "X = as.matrix(tempData %>% select(-c(Date)))\n",
        "\n",
        "# Print first sample\n",
        "print(X[1, ])\n",
        "\n",
        "# Print the first 3 eigenvectors or principal directions\n",
        "print(View[, 1:3])\n",
        "\n",
        "# Print the first 3 eigenvalues\n",
        "print(lambda[1:3])"
      ],
      "execution_count": null,
      "outputs": [
        {
          "output_type": "stream",
          "name": "stdout",
          "text": [
            " FrontLeft FrontRight   BackLeft  BackRight \n",
            "     295.2      297.0      295.8      296.3 \n",
            "           [,1]       [,2]        [,3]\n",
            "[1,] -0.4939113  0.5020308  0.70984479\n",
            "[2,] -0.5281787  0.4730418 -0.70076399\n",
            "[3,] -0.4698086 -0.5407776  0.06702403\n",
            "[4,] -0.5063188 -0.4814106 -0.02362183\n",
            "[1] 8.3447126 1.8261400 0.4138214\n"
          ]
        }
      ]
    },
    {
      "cell_type": "markdown",
      "source": [
        "**Question-2**: How much variance is explained by the first and second principal components?"
      ],
      "metadata": {
        "id": "1C2fUV5oxGhJ"
      }
    },
    {
      "cell_type": "code",
      "source": [
        "# Calculate the total sum of eigenvalues\n",
        "total_variance = sum(lambda)\n",
        "\n",
        "# Calculate the proportion of variance explained by the first and second principal components\n",
        "variance_explained_pc1 = lambda[1] / total_variance\n",
        "variance_explained_pc2 = lambda[2] / total_variance\n",
        "\n",
        "# Print the results\n",
        "print(paste(\"Variance explained by the first principal component:\", variance_explained_pc1))\n",
        "print(paste(\"Variance explained by the second principal component:\", variance_explained_pc2))\n"
      ],
      "metadata": {
        "id": "IGiei5v5xPsi",
        "colab": {
          "base_uri": "https://localhost:8080/"
        },
        "outputId": "38455895-08e1-4751-c4ec-73d9f0e0ccfa"
      },
      "execution_count": null,
      "outputs": [
        {
          "output_type": "stream",
          "name": "stdout",
          "text": [
            "[1] \"Variance explained by the first principal component: 0.766885216671078\"\n",
            "[1] \"Variance explained by the second principal component: 0.167823610741612\"\n"
          ]
        }
      ]
    },
    {
      "cell_type": "markdown",
      "source": [
        "**Question-3:** make a line plot of the PC-1 scores."
      ],
      "metadata": {
        "id": "h8vlgPZxxRbj"
      }
    },
    {
      "cell_type": "code",
      "source": [
        "# Assuming PC1_scores contains the principal component scores for PC1\n",
        "\n",
        "# Create a sequence of observation indices\n",
        "observation_indices <- seq(1, length(X))\n",
        "\n",
        "# Plot PC1 scores\n",
        "plot(observation_indices, X, type = \"l\",\n",
        "     main = \"PC-1 Scores\", xlab = \"Observation Index\", ylab = \"PC-1 Score\")\n"
      ],
      "metadata": {
        "id": "l1f50C9Vxk1n",
        "colab": {
          "base_uri": "https://localhost:8080/",
          "height": 437
        },
        "outputId": "4a0741e9-7ee6-43a5-dd78-dbacc2798cd5"
      },
      "execution_count": null,
      "outputs": [
        {
          "output_type": "display_data",
          "data": {
            "text/plain": [
              "Plot with title “PC-1 Scores”"
            ],
            "image/png": "[encoded data removed]"
          },
          "metadata": {
            "image/png": {
              "width": 420,
              "height": 420
            }
          }
        }
      ]
    },
    {
      "cell_type": "markdown",
      "source": [
        "**Question-4:** plot a bar plot of the loadings for the second principal component. Given this bar plot, what are the characteristics of an observation with a large, positive PC-2 score; and a large, negative PC-2 score?"
      ],
      "metadata": {
        "id": "N22ylUoDxl0h"
      }
    },
    {
      "cell_type": "code",
      "source": [
        "loadings_pc2 <- View[, 2]\n",
        "\n",
        "# Create a bar plot of loadings for PC-2\n",
        "barplot(loadings_pc2, names.arg = colnames(X),\n",
        "        main = \"Loadings for PC-2\", xlab = \"Variables\", ylab = \"Loadings\")"
      ],
      "metadata": {
        "id": "xYUUFsUvx9U6",
        "colab": {
          "base_uri": "https://localhost:8080/",
          "height": 437
        },
        "outputId": "fc72d5a3-4831-40ad-dd2f-2065933d087d"
      },
      "execution_count": null,
      "outputs": [
        {
          "output_type": "display_data",
          "data": {
            "text/plain": [
              "Plot with title “Loadings for PC-2”"
            ],
            "image/png": "[encoded data removed]"
          },
          "metadata": {
            "image/png": {
              "width": 420,
              "height": 420
            }
          }
        }
      ]
    },
    {
      "cell_type": "markdown",
      "source": [
        "**Question-5:** make a scatter plot of PC-1 (x-axis) vs. PC-2 (y-axis) scores. Briefly explain how you can use this plot to detect outliers in the temperature measurements?"
      ],
      "metadata": {
        "id": "QvHWbyCrx-Tv"
      }
    },
    {
      "cell_type": "code",
      "source": [
        "# Assuming PC1_scores and PC2_scores contain the principal component scores for PC1 and PC2, respectively\n",
        "\n",
        "# Create a scatter plot of PC-1 vs PC-2 scores\n",
        "plot(PC1_scores, PC2_scores,\n",
        "     main = \"PC-1 vs PC-2 Scores\",\n",
        "     xlab = \"PC-1 Scores\", ylab = \"PC-2 Scores\")\n",
        "\n",
        "# Add grid lines for reference\n",
        "grid()\n",
        "\n",
        "# Add a legend\n",
        "legend(\"topright\", legend = c(\"Observations\"), pch = 1, col = 1)\n"
      ],
      "metadata": {
        "id": "onTQAWZ6y6ZM",
        "colab": {
          "base_uri": "https://localhost:8080/",
          "height": 124
        },
        "outputId": "52db2fde-02e4-4641-c287-89a8355bd9cf"
      },
      "execution_count": null,
      "outputs": [
        {
          "output_type": "error",
          "ename": "ERROR",
          "evalue": "Error in eval(expr, envir, enclos): object 'PC1_scores' not found\n",
          "traceback": [
            "Error in eval(expr, envir, enclos): object 'PC1_scores' not found\nTraceback:\n",
            "1. plot(PC1_scores, PC2_scores, main = \"PC-1 vs PC-2 Scores\", xlab = \"PC-1 Scores\", \n .     ylab = \"PC-2 Scores\")"
          ]
        }
      ]
    },
    {
      "cell_type": "code",
      "metadata": {
        "id": "TzCTshmebSB3"
      },
      "source": [
        "## Refer to this website http://archive.ics.uci.edu/ml/datasets/Auto+MPG\n",
        "## for the data set that we will modify a bit in the next cell\n",
        "autompg = read.table(\n",
        "  \"http://archive.ics.uci.edu/ml/machine-learning-databases/auto-mpg/auto-mpg.data\",\n",
        "  quote = \"\\\"\",\n",
        "  comment.char = \"\",\n",
        "  stringsAsFactors = FALSE)"
      ],
      "execution_count": null,
      "outputs": []
    },
    {
      "cell_type": "markdown",
      "metadata": {
        "id": "6ZmA4S419eXW"
      },
      "source": [
        "**Question 6: print the structure of the unedited data set. How many samples and features are there?**"
      ]
    },
    {
      "cell_type": "code",
      "metadata": {
        "id": "bzLDhlUOtH6F"
      },
      "source": [
        "?(?)"
      ],
      "execution_count": null,
      "outputs": []
    },
    {
      "cell_type": "markdown",
      "source": [
        "**Here we modify data set; just execute this cell and understand what is happening.**"
      ],
      "metadata": {
        "id": "OotyJyhnzVZ7"
      }
    },
    {
      "cell_type": "code",
      "metadata": {
        "id": "ffzasjsKbTwd"
      },
      "source": [
        "# Give the dataframe column names\n",
        "colnames(autompg) = c(\"mpg\", \"cyl\", \"disp\", \"hp\", \"wt\", \"acc\", \"year\", \"origin\", \"name\")\n",
        "\n",
        "# Remove samples with missing horsepower (hp) values represented as \"?\"\n",
        "autompg = autompg %>% filter(hp != '?')\n",
        "\n",
        "# Remove samples with name \"plymouth reliant\"\n",
        "autompg = autompg %>% filter(name != 'plymouth reliant')\n",
        "\n",
        "# Give the dataframe row names in the form based on the engine, year and name\n",
        "rownames(autompg) = paste(autompg$cyl, \"cylinder\", autompg$year, autompg$name)\n",
        "\n",
        "# Select all features except \"name\"\n",
        "autompg = autompg %>% select(-name)\n",
        "\n",
        "# Change horsepower from character to numeric\n",
        "autompg$hp = as.numeric(autompg$hp)\n",
        "\n",
        "# Modify origin column to reflect local (1) and international models (0)\n",
        "autompg = autompg %>% mutate(origin = ifelse(!(origin %in% c(2, 3)), 'local', 'international'))\n",
        "\n",
        "# Filter samples with 3 and 5 cylinder cars (which are very rare)\n",
        "autompg = autompg %>% filter(!(cyl %in% c(3, 5)))\n",
        "\n",
        "# Change cyl and origin columns to factor types\n",
        "catcols = c('cyl', 'origin')\n",
        "autompg[catcols] = lapply(autompg[catcols], factor)"
      ],
      "execution_count": null,
      "outputs": []
    },
    {
      "cell_type": "markdown",
      "metadata": {
        "id": "71roMoEq-JVi"
      },
      "source": [
        "**Question 7: print the first 20 rows of the data frame.**"
      ]
    },
    {
      "cell_type": "code",
      "metadata": {
        "id": "yn9gcA9LhRsL"
      },
      "source": [
        "?(?, n = ?)"
      ],
      "execution_count": null,
      "outputs": []
    },
    {
      "cell_type": "markdown",
      "metadata": {
        "id": "MUM5DdWt-ZTp"
      },
      "source": [
        "**Question 8: print the structure of the modified data frame. How many samples and features are there? Which features are categorical?**"
      ]
    },
    {
      "cell_type": "code",
      "metadata": {
        "id": "NO9EojDA-YJ9"
      },
      "source": [
        "?(autompg)"
      ],
      "execution_count": null,
      "outputs": []
    },
    {
      "cell_type": "markdown",
      "metadata": {
        "id": "TggJX8Ag_xvB"
      },
      "source": [
        "**Question 9: how many levels does the categorical variable *origin* have? What is the reference level?**"
      ]
    },
    {
      "cell_type": "code",
      "metadata": {
        "id": "4vKeUQoSPrhw"
      },
      "source": [
        "?(?$?)"
      ],
      "execution_count": null,
      "outputs": []
    },
    {
      "cell_type": "markdown",
      "metadata": {
        "id": "WlJPc07zOiz2"
      },
      "source": [
        "**Question 10: Create a scatter plot of mpg (y-axis) vs. number of cylinders (x-axis).**"
      ]
    },
    {
      "cell_type": "code",
      "metadata": {
        "id": "62OsGKiwOoC2"
      },
      "source": [
        "p1 = ggplot(data = ?, aes(x = ?, ? = ?)) +\n",
        "  geom_?\n",
        "p1"
      ],
      "execution_count": null,
      "outputs": []
    },
    {
      "cell_type": "markdown",
      "metadata": {
        "id": "_96VBUIRN8Zc"
      },
      "source": [
        "**Question 11: Create a scatter plot of mpg vs. displacement by color coding the points according to the number of cylinders.**"
      ]
    },
    {
      "cell_type": "code",
      "metadata": {
        "id": "hum9uSGCNz8-"
      },
      "source": [
        "p2 = ggplot(?, aes(? = ?, y = ?, color = factor(?))) +\n",
        "  ?\n",
        "p2"
      ],
      "execution_count": null,
      "outputs": []
    },
    {
      "cell_type": "markdown",
      "metadata": {
        "id": "jayfl_9XxV2L"
      },
      "source": [
        "**Question 12: Create a scatter plot of mpg vs. displacement by color coding the points according to the origin (local or international).**"
      ]
    },
    {
      "cell_type": "code",
      "metadata": {
        "id": "Mqbhi_qbxVAk"
      },
      "source": [
        "p3 = ?\n",
        "p3"
      ],
      "execution_count": null,
      "outputs": []
    },
    {
      "cell_type": "markdown",
      "metadata": {
        "id": "dutKqWm2uqNk"
      },
      "source": [
        "**Question 13: fit a linear model for approximating *mpg* as a function of *displacement* and *origin*. Print the model's summary.**"
      ]
    },
    {
      "cell_type": "code",
      "metadata": {
        "id": "PPPu7Mq2PyFs"
      },
      "source": [
        "model = lm(data = ?, ? ~ ? + ?)\n",
        "summary(?)"
      ],
      "execution_count": null,
      "outputs": []
    },
    {
      "cell_type": "markdown",
      "metadata": {
        "id": "reuytKP1wcdO"
      },
      "source": [
        "**Question 14: Extract the slope and intercept for estimating the mpg of local and international categories. It would be helpful to start with the regression equation $\\hat{y}^{(i)} = \\hat{\\beta}_0 + \\hat{\\beta}_1x_1^{(i)} + \\hat{\\beta}_2x_2^{(i)}$ and then write two separate equations for local\n",
        " and international categories.**"
      ]
    },
    {
      "cell_type": "code",
      "metadata": {
        "id": "kzd8vRkdwbZe"
      },
      "source": [
        "intercept_international = coef(model)[?] # you can also use the $ way of extracting coefficients\n",
        "intercept_local = ?\n",
        "\n",
        "slope_international = ?\n",
        "slope_local = ?"
      ],
      "execution_count": null,
      "outputs": []
    },
    {
      "cell_type": "markdown",
      "metadata": {
        "id": "paxwmm0u54Ux"
      },
      "source": [
        "**Question 15: to the scatter plot you created for mpg. vs displacement color coded using origin, add two separete regression lines for local and domestic cars.**"
      ]
    },
    {
      "cell_type": "code",
      "metadata": {
        "id": "18GiMkWn2A_1"
      },
      "source": [
        "p3 %+% geom_?(intercept = ?, slope = ?, color = 'red', size = 1, linetype = 1) +\n",
        "   ?"
      ],
      "execution_count": null,
      "outputs": []
    },
    {
      "cell_type": "markdown",
      "metadata": {
        "id": "-fzIh0vi44Fh"
      },
      "source": [
        "**Question 16: Fit a linear model for mpg as a function of displacement and origin including an interaction effect between the predictors. Print the summary of the model.**"
      ]
    },
    {
      "cell_type": "code",
      "metadata": {
        "id": "K3jRrcKR4wUi"
      },
      "source": [],
      "execution_count": null,
      "outputs": []
    },
    {
      "cell_type": "markdown",
      "metadata": {
        "id": "bnnxKsKX5Vf_"
      },
      "source": [
        "**Question 17: Extract the slope and intercept for estimating the mpg of local and international categories. It would be helpful to start with the regression equation $\\hat{y}^{(i)} = \\hat{\\beta}_0 + \\hat{\\beta}_1x_1^{(i)} + \\hat{\\beta}_2x_2^{(i)} + \\hat{\\beta}_3x_3^{(i)}$ and then write two separate equations for local and international categories. In this equation, $x_3^{(i)}$ is the interaction effect variable.**"
      ]
    },
    {
      "cell_type": "code",
      "metadata": {
        "id": "IVd1FvyD5UoZ"
      },
      "source": [],
      "execution_count": null,
      "outputs": []
    },
    {
      "cell_type": "markdown",
      "metadata": {
        "id": "LRSpqRDr6EXM"
      },
      "source": [
        "**Question 18: Create a scatter plot of mpg vs. displacement by color coding the points according to the origin (domestic or international), and add separate regression lines for international and local cars.**"
      ]
    },
    {
      "cell_type": "code",
      "metadata": {
        "id": "K8kPO4pn6J3W"
      },
      "source": [
        "p4 = ggplot(data = autompg, aes(?, ?, color = ?)) +\n",
        "  geom_? +\n",
        "  ? +\n",
        "  ?\n",
        "p4"
      ],
      "execution_count": null,
      "outputs": []
    },
    {
      "cell_type": "markdown",
      "metadata": {
        "id": "-NEYvkfL_Jw0"
      },
      "source": [
        "**Question 19: Fit a linear model for mpg as a function of *displacement* and *hp*. Print the model's summary.**"
      ]
    },
    {
      "cell_type": "code",
      "metadata": {
        "id": "gjN7e3JM_JS5"
      },
      "source": [],
      "execution_count": null,
      "outputs": []
    },
    {
      "cell_type": "markdown",
      "metadata": {
        "id": "DszpGE_tXsIP"
      },
      "source": [
        "**Question 20: predict the mpg of a car with displacement = 375 and hp = 175.**"
      ]
    },
    {
      "cell_type": "code",
      "metadata": {
        "id": "LKtNmArEX-lr"
      },
      "source": [
        "newautompg = data.frame(? = c(375), hp = c(?))\n",
        "?(?, ?)"
      ],
      "execution_count": null,
      "outputs": []
    },
    {
      "cell_type": "markdown",
      "metadata": {
        "id": "jvlybrHZYPkA"
      },
      "source": [
        "**Question 21: Fit a linear model for *mpg* as a function of *displacement* and *hp* including an interaction term between the predictors. Print the model's summary.**"
      ]
    },
    {
      "cell_type": "code",
      "metadata": {
        "id": "i7a8XzDf_efw"
      },
      "source": [],
      "execution_count": null,
      "outputs": []
    },
    {
      "cell_type": "markdown",
      "metadata": {
        "id": "-s58kFIIYX90"
      },
      "source": [
        "**Question 22**: using the interaction model, predict the mpg of a car with displacement = 375 and hp = 175."
      ]
    },
    {
      "cell_type": "code",
      "metadata": {
        "id": "PBje0ykzYXdL"
      },
      "source": [],
      "execution_count": null,
      "outputs": []
    },
    {
      "cell_type": "markdown",
      "metadata": {
        "id": "0JtwQ4r-ZG6Y"
      },
      "source": [
        "**Question 23**: Using both non-interaction and interaction models, predict the mpg of a car with displacement = 400, hp = 250."
      ]
    },
    {
      "cell_type": "code",
      "metadata": {
        "id": "oskUbQS4Y_r2"
      },
      "source": [
        "newautompg = ?\n",
        "predict(?, ?)\n",
        "predict(?, ?)"
      ],
      "execution_count": null,
      "outputs": []
    }
  ]
}